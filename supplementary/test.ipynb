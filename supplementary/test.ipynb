{
 "metadata": {
  "language_info": {
   "codemirror_mode": {
    "name": "ipython",
    "version": 3
   },
   "file_extension": ".py",
   "mimetype": "text/x-python",
   "name": "python",
   "nbconvert_exporter": "python",
   "pygments_lexer": "ipython3",
   "version": "3.8.5"
  },
  "orig_nbformat": 2,
  "kernelspec": {
   "name": "pythonjvsc74a57bd0befa5df7d3690d4cc75f8dbf6ceec528a8acde4bffd91147ca42baa5ea4f4ac4",
   "display_name": "Python 3.8.5  ('population': venv)"
  },
  "metadata": {
   "interpreter": {
    "hash": "befa5df7d3690d4cc75f8dbf6ceec528a8acde4bffd91147ca42baa5ea4f4ac4"
   }
  }
 },
 "nbformat": 4,
 "nbformat_minor": 2,
 "cells": [
  {
   "cell_type": "code",
   "execution_count": 1,
   "metadata": {},
   "outputs": [],
   "source": [
    "import numpy as np \n",
    "import numba "
   ]
  },
  {
   "cell_type": "code",
   "execution_count": 68,
   "metadata": {},
   "outputs": [],
   "source": [
    "_N = 8\n",
    "N = _N**2\n",
    "lattice = np.zeros(N, dtype=np.int64)\n",
    "empty_mask = np.zeros(N, dtype=np.bool_)\n",
    "pred_mask = np.zeros(N, dtype=np.bool_)\n",
    "prey_mask = np.zeros(N, dtype=np.bool_)\n",
    "# Fill\n",
    "Nprey, Npred = int(N // 5), int(N // 5)\n",
    "indices = np.random.choice(N, size=Nprey+Npred, replace=False)\n",
    "prey_idxs = indices[:Nprey]\n",
    "pred_idxs = indices[Nprey:]\n",
    "prey_mask[prey_idxs] = True \n",
    "pred_mask[pred_idxs] = True "
   ]
  },
  {
   "cell_type": "code",
   "execution_count": 75,
   "metadata": {},
   "outputs": [
    {
     "output_type": "execute_result",
     "data": {
      "text/plain": [
       "array([ 7,  8, 10, 12, 14, 25, 26, 30, 37, 44, 49, 54])"
      ]
     },
     "metadata": {},
     "execution_count": 75
    }
   ],
   "source": [
    "lattice[prey_idxs] = -1 \n",
    "lattice[pred_idxs] = 1\n",
    "prey_indices = np.where(prey_mask)[0]\n",
    "prey_indices"
   ]
  },
  {
   "cell_type": "code",
   "execution_count": 6,
   "metadata": {},
   "outputs": [],
   "source": [
    "lattice = np.zeros(100000, dtype=np.int64)\n",
    "lattice[1230:3450] = 1"
   ]
  },
  {
   "cell_type": "code",
   "execution_count": 7,
   "metadata": {},
   "outputs": [
    {
     "output_type": "stream",
     "name": "stdout",
     "text": [
      "61 µs ± 854 ns per loop (mean ± std. dev. of 7 runs, 10000 loops each)\n",
      "70.8 µs ± 408 ns per loop (mean ± std. dev. of 7 runs, 10000 loops each)\n",
      "64.3 µs ± 626 ns per loop (mean ± std. dev. of 7 runs, 10000 loops each)\n"
     ]
    }
   ],
   "source": [
    "%timeit np.where(lattice==1)[0]\n",
    "%timeit np.argwhere(lattice==1).flatten()\n",
    "%timeit np.flatnonzero(lattice==1)"
   ]
  },
  {
   "cell_type": "code",
   "execution_count": 14,
   "metadata": {},
   "outputs": [],
   "source": [
    "indices = np.arange(10000, dtype=np.int64)"
   ]
  },
  {
   "cell_type": "code",
   "execution_count": 15,
   "metadata": {},
   "outputs": [
    {
     "output_type": "stream",
     "name": "stdout",
     "text": [
      "10.8 µs ± 48.2 ns per loop (mean ± std. dev. of 7 runs, 100000 loops each)\n",
      "8.14 µs ± 19.6 ns per loop (mean ± std. dev. of 7 runs, 100000 loops each)\n",
      "7.09 µs ± 17.5 ns per loop (mean ± std. dev. of 7 runs, 100000 loops each)\n"
     ]
    }
   ],
   "source": [
    "%timeit np.flatnonzero(indices==100)\n",
    "%timeit np.where(indices==100)[0]\n",
    "%timeit np.argmax(indices==100)"
   ]
  },
  {
   "cell_type": "code",
   "execution_count": null,
   "metadata": {},
   "outputs": [],
   "source": []
  }
 ]
}