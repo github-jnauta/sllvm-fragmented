{
 "metadata": {
  "language_info": {
   "codemirror_mode": {
    "name": "ipython",
    "version": 3
   },
   "file_extension": ".py",
   "mimetype": "text/x-python",
   "name": "python",
   "nbconvert_exporter": "python",
   "pygments_lexer": "ipython3",
   "version": "3.8.5"
  },
  "orig_nbformat": 2,
  "kernelspec": {
   "name": "python3",
   "display_name": "Python 3.8.5 64-bit ('population': venv)"
  },
  "metadata": {
   "interpreter": {
    "hash": "befa5df7d3690d4cc75f8dbf6ceec528a8acde4bffd91147ca42baa5ea4f4ac4"
   }
  },
  "interpreter": {
   "hash": "befa5df7d3690d4cc75f8dbf6ceec528a8acde4bffd91147ca42baa5ea4f4ac4"
  }
 },
 "nbformat": 4,
 "nbformat_minor": 2,
 "cells": [
  {
   "cell_type": "code",
   "execution_count": 2,
   "metadata": {},
   "outputs": [],
   "source": [
    "import numpy as np \n",
    "import numba "
   ]
  },
  {
   "cell_type": "code",
   "execution_count": 3,
   "metadata": {},
   "outputs": [],
   "source": [
    "@numba.jit(nopython=True, cache=True)\n",
    "def nb_spectral_synthesis_2D(L, H, sig=1):\n",
    "    A = np.zeros((L,L), dtype=np.cdouble)\n",
    "    for i in range(L//2):\n",
    "        for j in range(L//2):\n",
    "            phase = 2*np.pi*np.random.random()\n",
    "            if i!=0 or j!=0:\n",
    "                r = (i*i+j*j)**(-(H+1)/2) * np.random.normal(0, sig)\n",
    "            else:\n",
    "                r = 0 \n",
    "            A[i,j] = r*np.cos(phase) + 1j*r*np.sin(phase)\n",
    "            i0 = 0 if i == 0 else L-i \n",
    "            j0 = 0 if j == 0 else L-j \n",
    "            A[i0,j0] = r*np.cos(phase) + 1j*r*np.sin(phase)\n",
    "\n",
    "    # @TODO: Why does one need to loop 'twice'\n",
    "    # (but note different indices are assigned)\n",
    "    # See also https://link.springer.com/content/pdf/10.1023/A:1008193015770.pdf \n",
    "    for i in range(1, L//2):\n",
    "        for j in range(1, L//2):\n",
    "            phase = 2*np.pi*np.random.random() \n",
    "            r = (i*i+j*j)**(-(H+1)/2) * np.random.normal(sig)\n",
    "            A[i,L-j] = r*np.cos(phase) + 1j*r*np.sin(phase)\n",
    "            A[L-i,j] = r*np.cos(phase) - 1j*r*np.sin(phase)\n",
    "    \n",
    "    return A"
   ]
  },
  {
   "cell_type": "code",
   "execution_count": 4,
   "metadata": {},
   "outputs": [],
   "source": [
    "def spectral_synthesis_2D(L, H, sig=1):\n",
    "    A = np.zeros((L,L), dtype=np.cdouble)\n",
    "    for i in range(L//2):\n",
    "        for j in range(L//2):\n",
    "            phase = 2*np.pi*np.random.random()\n",
    "            if i!=0 or j!=0:\n",
    "                r = (i*i+j*j)**(-(H+1)/2) * np.random.normal(0, sig)\n",
    "            else:\n",
    "                r = 0 \n",
    "            A[i,j] = r*np.cos(phase) + 1j*r*np.sin(phase)\n",
    "            i0 = 0 if i == 0 else L-i \n",
    "            j0 = 0 if j == 0 else L-j \n",
    "            A[i0,j0] = r*np.cos(phase) + 1j*r*np.sin(phase)\n",
    "\n",
    "    # @TODO: Why does one need to loop 'twice'\n",
    "    # (but note different indices are assigned)\n",
    "    # See also https://link.springer.com/content/pdf/10.1023/A:1008193015770.pdf \n",
    "    for i in range(1, L//2):\n",
    "        for j in range(1, L//2):\n",
    "            phase = 2*np.pi*np.random.random() \n",
    "            r = (i*i+j*j)**(-(H+1)/2) * np.random.normal(sig)\n",
    "            A[i,L-j] = r*np.cos(phase) + 1j*r*np.sin(phase)\n",
    "            A[L-i,j] = r*np.cos(phase) - 1j*r*np.sin(phase)\n",
    "    \n",
    "    return A"
   ]
  },
  {
   "cell_type": "code",
   "execution_count": 5,
   "metadata": {},
   "outputs": [
    {
     "output_type": "stream",
     "name": "stdout",
     "text": [
      "236 µs ± 12.8 µs per loop (mean ± std. dev. of 7 runs, 1 loop each)\n",
      "28.7 ms ± 303 µs per loop (mean ± std. dev. of 7 runs, 10 loops each)\n"
     ]
    }
   ],
   "source": [
    "%timeit nb_spectral_synthesis_2D(2**6, 0.5)\n",
    "%timeit spectral_synthesis_2D(2**6, 0.5)"
   ]
  },
  {
   "cell_type": "code",
   "execution_count": null,
   "metadata": {},
   "outputs": [],
   "source": []
  }
 ]
}