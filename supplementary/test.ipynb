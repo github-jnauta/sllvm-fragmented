{
 "metadata": {
  "language_info": {
   "codemirror_mode": {
    "name": "ipython",
    "version": 3
   },
   "file_extension": ".py",
   "mimetype": "text/x-python",
   "name": "python",
   "nbconvert_exporter": "python",
   "pygments_lexer": "ipython3",
   "version": "3.8.5"
  },
  "orig_nbformat": 2,
  "kernelspec": {
   "name": "pythonjvsc74a57bd0befa5df7d3690d4cc75f8dbf6ceec528a8acde4bffd91147ca42baa5ea4f4ac4",
   "display_name": "Python 3.8.5  ('population': venv)"
  },
  "metadata": {
   "interpreter": {
    "hash": "befa5df7d3690d4cc75f8dbf6ceec528a8acde4bffd91147ca42baa5ea4f4ac4"
   }
  }
 },
 "nbformat": 4,
 "nbformat_minor": 2,
 "cells": [
  {
   "cell_type": "code",
   "execution_count": 3,
   "metadata": {},
   "outputs": [],
   "source": [
    "import numpy as np \n",
    "import numba "
   ]
  },
  {
   "cell_type": "code",
   "execution_count": 7,
   "metadata": {},
   "outputs": [],
   "source": [
    "def binary_lattice(lattice, rho):\n",
    "        \"\"\" Generate binary lattice from the continuous fraction Brownian motion lattice \n",
    "            ρ ∈ [0,1] determines the occupancy, where ρN is the (integer) number of sites\n",
    "            available to be occupied by resources\n",
    "        \"\"\"\n",
    "        shifted_lattice = lattice + abs(np.min(lattice))    # Shift\n",
    "        sorted_lattice = np.sort(shifted_lattice.flatten()) # Sort \n",
    "        # Determine cutoff point\n",
    "        cutoff = sorted_lattice[int((1-rho)*lattice.shape[0]*lattice.shape[1])]\n",
    "        # Generate binary lattice\n",
    "        _lattice = shifted_lattice / cutoff                 # Normalize lattice\n",
    "        _lattice[_lattice >= 1] = 1                         # All above cutoff to 1\n",
    "        _lattice[_lattice < 1] = 0                          # All below to 0\n",
    "        return np.asarray(_lattice, dtype=np.int64)"
   ]
  },
  {
   "cell_type": "code",
   "execution_count": 14,
   "metadata": {},
   "outputs": [],
   "source": [
    "_lattice = np.random.random((512,512))\n",
    "lattice = binary_lattice(_lattice, 0.5)\n",
    "occupied = np.where(lattice!=0)\n",
    "_occupied_sites = occupied[0]*512 + occupied[1]"
   ]
  },
  {
   "cell_type": "code",
   "execution_count": 9,
   "metadata": {},
   "outputs": [],
   "source": [
    "@numba.jit(nopython=True, cache=True)\n",
    "def test(lattice, L):    \n",
    "    _occupied_sites = np.where(lattice!=0)\n",
    "    occupied_sites_1D = _occupied_sites[0]*L + _occupied_sites[1]\n",
    "    K = len(occupied_sites_1D)"
   ]
  },
  {
   "cell_type": "code",
   "execution_count": 10,
   "metadata": {},
   "outputs": [
    {
     "output_type": "stream",
     "name": "stdout",
     "text": [
      "2.05 ms ± 176 µs per loop (mean ± std. dev. of 7 runs, 1 loop each)\n"
     ]
    }
   ],
   "source": [
    "%timeit test(lattice, lattice.shape[0])"
   ]
  },
  {
   "cell_type": "code",
   "execution_count": 15,
   "metadata": {},
   "outputs": [],
   "source": [
    "@numba.jit(nopython=True, cache=True)\n",
    "def test(_occupied_sites):    \n",
    "    _occupied_sites = np.append(_occupied_sites, 0) "
   ]
  },
  {
   "cell_type": "code",
   "execution_count": 16,
   "metadata": {},
   "outputs": [
    {
     "output_type": "stream",
     "name": "stdout",
     "text": [
      "100 µs ± 56.8 µs per loop (mean ± std. dev. of 7 runs, 1 loop each)\n"
     ]
    }
   ],
   "source": [
    "%timeit test(_occupied_sites)"
   ]
  },
  {
   "cell_type": "code",
   "execution_count": null,
   "metadata": {},
   "outputs": [],
   "source": []
  }
 ]
}