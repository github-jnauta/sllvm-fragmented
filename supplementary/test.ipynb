{
 "cells": [
  {
   "cell_type": "code",
   "execution_count": 2,
   "source": [
    "import numpy as np \n",
    "from scipy.special import zeta"
   ],
   "outputs": [],
   "metadata": {}
  },
  {
   "cell_type": "code",
   "execution_count": 106,
   "source": [
    "def sample_discrete_powlaw(N, xmin, C, _Zeta):\n",
    "    \"\"\" Sample from trunctated discrete power law \"\"\"\n",
    "    samples = np.zeros(N, dtype=np.int64)\n",
    "    _Zeta = _Zeta / C \n",
    "    for n in range(N):\n",
    "        r = np.random.random() \n",
    "        lo = 0 \n",
    "        hi = len(_Zeta)\n",
    "        while lo < hi:\n",
    "            m = lo + (hi-lo)//2\n",
    "            if _Zeta[m] > 1-r:\n",
    "                lo = m+1\n",
    "            else:\n",
    "                hi = m\n",
    "        samples[n] = xmin + m \n",
    "    return samples \n",
    "    "
   ],
   "outputs": [],
   "metadata": {}
  },
  {
   "cell_type": "code",
   "execution_count": 111,
   "source": [
    "alpha = 2.\n",
    "N = 100000\n",
    "xmin = 50\n",
    "xmax = 1000\n",
    "x = np.arange(xmin, xmax+1)\n",
    "C = zeta(alpha, xmin) - zeta(alpha, xmax+1)\n",
    "Zeta = zeta(alpha, x) - zeta(alpha, xmax+1)"
   ],
   "outputs": [],
   "metadata": {}
  },
  {
   "cell_type": "code",
   "execution_count": 112,
   "source": [
    "np.random.seed(42)\n",
    "samples = sample_discrete_powlaw(N, xmin, C, Zeta)"
   ],
   "outputs": [],
   "metadata": {}
  },
  {
   "cell_type": "code",
   "execution_count": 113,
   "source": [
    "import matplotlib.pyplot as plt \n",
    "bins = np.logspace(np.log10(xmin), np.log10(xmax), num=50, dtype=np.int64)\n",
    "bins = np.unique(bins)\n",
    "hist, _ = np.histogram(samples, bins=bins, density=True)\n",
    "p = x**(-alpha)/C\n",
    "dbins = np.diff(np.log10(bins))\n",
    "xplot = bins[:-1] + dbins \n",
    "plt.loglog(xplot, hist, marker='o', linestyle='none')\n",
    "plt.loglog(x, p, 'k--')"
   ],
   "outputs": [
    {
     "output_type": "execute_result",
     "data": {
      "text/plain": [
       "[<matplotlib.lines.Line2D at 0x7fa285f6bdf0>]"
      ]
     },
     "metadata": {},
     "execution_count": 113
    },
    {
     "output_type": "display_data",
     "data": {
      "text/plain": [
       "<Figure size 432x288 with 1 Axes>"
      ],
      "image/png": "[encoded data removed]"
     },
     "metadata": {
      "needs_background": "light"
     }
    }
   ],
   "metadata": {}
  },
  {
   "cell_type": "code",
   "execution_count": null,
   "source": [],
   "outputs": [],
   "metadata": {}
  }
 ],
 "metadata": {
  "interpreter": {
   "hash": "befa5df7d3690d4cc75f8dbf6ceec528a8acde4bffd91147ca42baa5ea4f4ac4"
  },
  "kernelspec": {
   "display_name": "Python 3.8.10 64-bit ('population': venv)",
   "name": "python3"
  },
  "language_info": {
   "codemirror_mode": {
    "name": "ipython",
    "version": 3
   },
   "file_extension": ".py",
   "mimetype": "text/x-python",
   "name": "python",
   "nbconvert_exporter": "python",
   "pygments_lexer": "ipython3",
   "version": "3.8.10"
  },
  "metadata": {
   "interpreter": {
    "hash": "befa5df7d3690d4cc75f8dbf6ceec528a8acde4bffd91147ca42baa5ea4f4ac4"
   }
  },
  "orig_nbformat": 2
 },
 "nbformat": 4,
 "nbformat_minor": 2
}