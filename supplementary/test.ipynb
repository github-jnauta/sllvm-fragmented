{
 "metadata": {
  "language_info": {
   "codemirror_mode": {
    "name": "ipython",
    "version": 3
   },
   "file_extension": ".py",
   "mimetype": "text/x-python",
   "name": "python",
   "nbconvert_exporter": "python",
   "pygments_lexer": "ipython3",
   "version": "3.8.5"
  },
  "orig_nbformat": 2,
  "kernelspec": {
   "name": "pythonjvsc74a57bd0befa5df7d3690d4cc75f8dbf6ceec528a8acde4bffd91147ca42baa5ea4f4ac4",
   "display_name": "Python 3.8.5  ('population': venv)"
  },
  "metadata": {
   "interpreter": {
    "hash": "befa5df7d3690d4cc75f8dbf6ceec528a8acde4bffd91147ca42baa5ea4f4ac4"
   }
  }
 },
 "nbformat": 4,
 "nbformat_minor": 2,
 "cells": [
  {
   "cell_type": "code",
   "execution_count": 1,
   "metadata": {},
   "outputs": [],
   "source": [
    "import numpy as np \n",
    "import numba "
   ]
  },
  {
   "cell_type": "code",
   "execution_count": 68,
   "metadata": {},
   "outputs": [],
   "source": [
    "_N = 8\n",
    "N = _N**2\n",
    "lattice = np.zeros(N, dtype=np.int64)\n",
    "empty_mask = np.zeros(N, dtype=np.bool_)\n",
    "pred_mask = np.zeros(N, dtype=np.bool_)\n",
    "prey_mask = np.zeros(N, dtype=np.bool_)\n",
    "# Fill\n",
    "Nprey, Npred = int(N // 5), int(N // 5)\n",
    "indices = np.random.choice(N, size=Nprey+Npred, replace=False)\n",
    "prey_idxs = indices[:Nprey]\n",
    "pred_idxs = indices[Nprey:]\n",
    "prey_mask[prey_idxs] = True \n",
    "pred_mask[pred_idxs] = True "
   ]
  },
  {
   "cell_type": "code",
   "execution_count": 75,
   "metadata": {},
   "outputs": [
    {
     "output_type": "execute_result",
     "data": {
      "text/plain": [
       "array([ 7,  8, 10, 12, 14, 25, 26, 30, 37, 44, 49, 54])"
      ]
     },
     "metadata": {},
     "execution_count": 75
    }
   ],
   "source": [
    "lattice[prey_idxs] = -1 \n",
    "lattice[pred_idxs] = 1\n",
    "prey_indices = np.where(prey_mask)[0]\n",
    "prey_indices"
   ]
  },
  {
   "cell_type": "code",
   "execution_count": null,
   "metadata": {},
   "outputs": [],
   "source": []
  }
 ]
}