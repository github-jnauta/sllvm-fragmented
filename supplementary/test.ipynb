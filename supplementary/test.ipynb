{
 "metadata": {
  "language_info": {
   "codemirror_mode": {
    "name": "ipython",
    "version": 3
   },
   "file_extension": ".py",
   "mimetype": "text/x-python",
   "name": "python",
   "nbconvert_exporter": "python",
   "pygments_lexer": "ipython3",
   "version": "3.8.5"
  },
  "orig_nbformat": 2,
  "kernelspec": {
   "name": "pythonjvsc74a57bd0befa5df7d3690d4cc75f8dbf6ceec528a8acde4bffd91147ca42baa5ea4f4ac4",
   "display_name": "Python 3.8.5  ('population': venv)"
  },
  "metadata": {
   "interpreter": {
    "hash": "befa5df7d3690d4cc75f8dbf6ceec528a8acde4bffd91147ca42baa5ea4f4ac4"
   }
  }
 },
 "nbformat": 4,
 "nbformat_minor": 2,
 "cells": [
  {
   "cell_type": "code",
   "execution_count": 76,
   "metadata": {},
   "outputs": [],
   "source": [
    "import numpy as np \n",
    "from collections import deque\n",
    "import numba "
   ]
  },
  {
   "cell_type": "code",
   "execution_count": 77,
   "metadata": {},
   "outputs": [],
   "source": [
    "def test_deque(deq, randy, n=10000):\n",
    "    idx = 0\n",
    "    for i in range(n):\n",
    "        if randy[i] < 0.5:\n",
    "            deq.append(i)\n",
    "        else:\n",
    "            deq.popleft()\n",
    "            idx += 1"
   ]
  },
  {
   "cell_type": "code",
   "execution_count": 116,
   "metadata": {},
   "outputs": [],
   "source": [
    "def test_list(_list, randy, n=10000):\n",
    "    idx = 0    \n",
    "    for i in range(n):\n",
    "        if randy[i] < 0.5:\n",
    "            _list.append(i)\n",
    "        else:\n",
    "            _list[i], _list[-1] = _list[-1], _list[i]\n",
    "            del _list[-1]"
   ]
  },
  {
   "cell_type": "code",
   "execution_count": 112,
   "metadata": {},
   "outputs": [],
   "source": [
    "_list = [i for i in range(110000)]\n",
    "deq = deque(_list)\n",
    "arr = np.array(_list)\n",
    "randy = np.random.random(10000)"
   ]
  },
  {
   "cell_type": "code",
   "execution_count": 115,
   "metadata": {
    "tags": []
   },
   "outputs": [
    {
     "output_type": "stream",
     "name": "stdout",
     "text": [
      "4.14 ms ± 20.9 µs per loop (mean ± std. dev. of 7 runs, 100 loops each)\n",
      "153 ms ± 182 µs per loop (mean ± std. dev. of 7 runs, 10 loops each)\n"
     ]
    }
   ],
   "source": [
    "%timeit test_deque(deq.copy(), randy)\n",
    "%timeit test_list(_list.copy(), randy)\n",
    "# %timeit test_np(arr.copy(), randy)"
   ]
  },
  {
   "cell_type": "code",
   "execution_count": 117,
   "metadata": {},
   "outputs": [
    {
     "output_type": "stream",
     "name": "stdout",
     "text": [
      "4.09 ms ± 75.3 µs per loop (mean ± std. dev. of 7 runs, 100 loops each)\n"
     ]
    }
   ],
   "source": [
    "%timeit test_list(_list.copy(), randy)"
   ]
  },
  {
   "cell_type": "code",
   "execution_count": null,
   "metadata": {},
   "outputs": [],
   "source": []
  }
 ]
}